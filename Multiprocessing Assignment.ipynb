{
 "cells": [
  {
   "cell_type": "code",
   "execution_count": null,
   "id": "204038ba-d44c-4de1-bb13-d90211940e97",
   "metadata": {},
   "outputs": [],
   "source": [
    "What is multiprocessing in python? Why is it useful?"
   ]
  },
  {
   "cell_type": "code",
   "execution_count": null,
   "id": "98fa18f0-9659-477b-bff0-d76003aea404",
   "metadata": {},
   "outputs": [],
   "source": [
    "Multiprocessing in Python is a built-in package that allows the system to run multiple processes simultaneously. It will enable the breaking of applications into smaller threads that can run independently.\n",
    "It helps you overcome global interpreter lock (GIL) limitations in CPython. Child processes can be interrupted. It completes tasks faster and analyzes large amounts of data. It uses multiple CPUs to improve a system's overall power."
   ]
  },
  {
   "cell_type": "code",
   "execution_count": null,
   "id": "2e6fcc4f-bf95-4bf0-b783-63176c1a3af6",
   "metadata": {},
   "outputs": [],
   "source": [
    "What are the differences between multiprocessing and multithreading?"
   ]
  },
  {
   "cell_type": "code",
   "execution_count": null,
   "id": "a6df646f-901f-4089-be9d-09a47959db25",
   "metadata": {},
   "outputs": [],
   "source": [
    "What is Multiprocessing?\n",
    "Multiprocessing refers to using multiple CPUs/processors in a single system. Multiple CPUs can act in a parallel fashion and execute multiple processes together. A task is divided into multiple processes that run on multiple processors. When the task is over, the results from all processors are compiled together to provide the final output. Multiprocessing increases the computing power to a great extent. Symmetric multiprocessing and asymmetric multiprocessing are two types of multiprocessing.\n",
    "\n",
    "Multiprocessing increases the reliability of the system because of the use of multiple CPUs. However, a significant amount of time and specific resources are required for multiprocessing. Multiprocessing is relatively more cost effective as compared to a single CPU system.\n",
    "\n",
    "What is Multithreading?\n",
    "Multithreading refers to multiple threads being executed by a single CPU in such a way that each thread is executed in parallel fashion and CPU/processor is switched between them using context switch. Multithreading is a technique to increase the throughput of a processor. In multithreading, accessing memory addresses is easy because all of the threads share the same parent process.\n",
    "\n",
    "The switching among different threads is fast and efficient. It must be noted that in multithreading, multiple threads are created from a single process and then these threads are processed simultaneously.s"
   ]
  },
  {
   "cell_type": "code",
   "execution_count": null,
   "id": "634b435b-9164-4b1c-a8ad-787b28b0f6a7",
   "metadata": {},
   "outputs": [],
   "source": [
    "What is a multiprocessing pool in python?\n",
    "Python multiprocessing Pool can be used for parallel execution of a function across multiple input values, distributing the input data across processes"
   ]
  }
 ],
 "metadata": {
  "kernelspec": {
   "display_name": "Python 3 (ipykernel)",
   "language": "python",
   "name": "python3"
  },
  "language_info": {
   "codemirror_mode": {
    "name": "ipython",
    "version": 3
   },
   "file_extension": ".py",
   "mimetype": "text/x-python",
   "name": "python",
   "nbconvert_exporter": "python",
   "pygments_lexer": "ipython3",
   "version": "3.10.8"
  }
 },
 "nbformat": 4,
 "nbformat_minor": 5
}
